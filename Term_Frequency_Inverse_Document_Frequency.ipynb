{
  "nbformat": 4,
  "nbformat_minor": 0,
  "metadata": {
    "colab": {
      "provenance": [],
      "mount_file_id": "1ZGTmYo5yMUXULlFmM9-bH7PXyPCL6t2U",
      "authorship_tag": "ABX9TyM0FExAOx4UT0clu18njnEP",
      "include_colab_link": true
    },
    "kernelspec": {
      "name": "python3",
      "display_name": "Python 3"
    },
    "language_info": {
      "name": "python"
    }
  },
  "cells": [
    {
      "cell_type": "markdown",
      "metadata": {
        "id": "view-in-github",
        "colab_type": "text"
      },
      "source": [
        "<a href=\"https://colab.research.google.com/github/naidu1997/Natural-Language-Process/blob/main/Term_Frequency_Inverse_Document_Frequency.ipynb\" target=\"_parent\"><img src=\"https://colab.research.google.com/assets/colab-badge.svg\" alt=\"Open In Colab\"/></a>"
      ]
    },
    {
      "cell_type": "code",
      "source": [
        "from sklearn.feature_extraction.text import TfidfVectorizer\n",
        "#sample documents\n",
        "documents= [\n",
        "    \"this is the first document\",\n",
        "    \"this document is the second document\",\n",
        "    \"and this is the third one\",\n",
        "    \"is this the fourth document\"\n",
        "]\n",
        "#create a tfidvectorizor object\n",
        "vectorizer= TfidfVectorizer()\n",
        "#transfere the data into TF-IDF vectors\n",
        "tfidf_vectors= vectorizer.fit_transform(documents)\n",
        "#get feature names\n",
        "feature_names= vectorizer.get_feature_names_out()\n",
        "#convert the TF-IDF matrix to a dense representation\n",
        "dense_tfidf_matrix= tfidf_vectors.todense()\n",
        "#Display the TF-IDF matrix\n",
        "import pandas as pd\n",
        "data= pd.DataFrame(dense_tfidf_matrix, columns= feature_names)\n",
        "print(data)"
      ],
      "metadata": {
        "colab": {
          "base_uri": "https://localhost:8080/"
        },
        "id": "-f2ZVJdRMPQd",
        "outputId": "120c8c09-7a20-4bf6-b921-4974316a92d1"
      },
      "execution_count": 3,
      "outputs": [
        {
          "output_type": "stream",
          "name": "stdout",
          "text": [
            "        and  document     first    fourth        is       one    second  \\\n",
            "0  0.000000  0.427970  0.670497  0.000000  0.349893  0.000000  0.000000   \n",
            "1  0.000000  0.687624  0.000000  0.000000  0.281089  0.000000  0.538648   \n",
            "2  0.511849  0.000000  0.000000  0.000000  0.267104  0.511849  0.000000   \n",
            "3  0.000000  0.427970  0.000000  0.670497  0.349893  0.000000  0.000000   \n",
            "\n",
            "        the     third      this  \n",
            "0  0.349893  0.000000  0.349893  \n",
            "1  0.281089  0.000000  0.281089  \n",
            "2  0.267104  0.511849  0.267104  \n",
            "3  0.349893  0.000000  0.349893  \n"
          ]
        }
      ]
    }
  ]
}